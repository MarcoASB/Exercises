{
 "cells": [
  {
   "cell_type": "code",
   "execution_count": 1,
   "metadata": {},
   "outputs": [],
   "source": [
    "# The list of candies to print to the screen\n",
    "candyList = [\"Snickers\", \"Kit Kat\", \"Sour Patch Kids\", \"Juicy Fruit\", \"Swedish Fish\",\n",
    "             \"Skittles\", \"Hershey Bar\", \"Starbursts\", \"M&Ms\"]"
   ]
  },
  {
   "cell_type": "code",
   "execution_count": 2,
   "metadata": {},
   "outputs": [],
   "source": [
    "# The amount of candy the user will be allowed to choose\n",
    "allowance = 5"
   ]
  },
  {
   "cell_type": "code",
   "execution_count": 3,
   "metadata": {},
   "outputs": [],
   "source": [
    "# The list used to store all of the candies selected inside of\n",
    "allowance = 5\n",
    "candyCart = []"
   ]
  },
  {
   "cell_type": "code",
   "execution_count": 10,
   "metadata": {},
   "outputs": [
    {
     "name": "stdout",
     "output_type": "stream",
     "text": [
      "[0]Snickers\n",
      "[1]Kit Kat\n",
      "[2]Sour Patch Kids\n",
      "[3]Juicy Fruit\n",
      "[4]Swedish Fish\n",
      "[5]Skittles\n",
      "[6]Hershey Bar\n",
      "[7]Starbursts\n",
      "[8]M&Ms\n"
     ]
    }
   ],
   "source": [
    "# Print out options\n",
    "allowance = 5\n",
    "candyCart = []\n",
    "for i in range(len(candyList)):\n",
    "    print ('['+ str(i) +']' + candyList[i])"
   ]
  },
  {
   "cell_type": "code",
   "execution_count": 11,
   "metadata": {},
   "outputs": [],
   "source": [
    "candyCart = []"
   ]
  },
  {
   "cell_type": "code",
   "execution_count": 12,
   "metadata": {},
   "outputs": [
    {
     "name": "stdout",
     "output_type": "stream",
     "text": [
      "Type the number of the candy that you want0\n",
      "Type the number of the candy that you want1\n",
      "Type the number of the candy that you want3\n",
      "Type the number of the candy that you want6\n",
      "Type the number of the candy that you want8\n"
     ]
    }
   ],
   "source": [
    "for i in range(allowance):\n",
    "    candy=input('Type the number of the candy that you want ')\n",
    "    candyCart.append(candyList[int(candy)])"
   ]
  },
  {
   "cell_type": "code",
   "execution_count": 14,
   "metadata": {},
   "outputs": [
    {
     "name": "stdout",
     "output_type": "stream",
     "text": [
      "You choose...\n",
      "Snickers\n",
      "Kit Kat\n",
      "Juicy Fruit\n",
      "Hershey Bar\n",
      "M&Ms\n"
     ]
    }
   ],
   "source": [
    "print('You choose...')\n",
    "for i in candyCart:\n",
    "    print (i)"
   ]
  },
  {
   "cell_type": "code",
   "execution_count": 30,
   "metadata": {},
   "outputs": [
    {
     "name": "stdout",
     "output_type": "stream",
     "text": [
      "[0]Snickers\n",
      "[1]Kit Kat\n",
      "[2]Sour Patch Kids\n",
      "[3]Juicy Fruit\n",
      "[4]Swedish Fish\n",
      "[5]Skittles\n",
      "[6]Hershey Bar\n",
      "[7]Starbursts\n",
      "[8]M&Ms\n"
     ]
    }
   ],
   "source": [
    "candyList = [\"Snickers\", \"Kit Kat\", \"Sour Patch Kids\", \"Juicy Fruit\", \"Swedish Fish\",\n",
    "             \"Skittles\", \"Hershey Bar\", \"Starbursts\", \"M&Ms\"]\n",
    "for i in range(len(candyList)):\n",
    "    print('['+ str(i) +']' + candyList[i])"
   ]
  },
  {
   "cell_type": "code",
   "execution_count": 42,
   "metadata": {},
   "outputs": [
    {
     "name": "stdout",
     "output_type": "stream",
     "text": [
      "Type the number of the candy that you want7\n",
      "Do you want other candy? (y/n) y\n",
      "Type the number of the candy that you want8\n",
      "Do you want other candy? (y/n) y\n",
      "Type the number of the candy that you want0\n",
      "Do you want other candy? (y/n) n\n",
      "\n",
      "You choose ...\n",
      "Starbursts\n",
      "M&Ms\n",
      "Snickers\n",
      "Swedish Fish\n",
      "Starbursts\n",
      "M&Ms\n",
      "Snickers\n"
     ]
    }
   ],
   "source": [
    "candy_cart = []\n",
    "other = 'y'\n",
    "while other == 'y':\n",
    "    candy = input('Type the number of the candy that you want')\n",
    "    candy_cart.append(candyList[int(candy)])\n",
    "    other = input('Do you want other candy? (y/n) ')\n",
    "print('')\n",
    "print('You choose ...')\n",
    "for i in candy_cart:\n",
    "    print(i)"
   ]
  },
  {
   "cell_type": "code",
   "execution_count": null,
   "metadata": {},
   "outputs": [],
   "source": []
  }
 ],
 "metadata": {
  "kernelspec": {
   "display_name": "Python 3",
   "language": "python",
   "name": "python3"
  },
  "language_info": {
   "codemirror_mode": {
    "name": "ipython",
    "version": 3
   },
   "file_extension": ".py",
   "mimetype": "text/x-python",
   "name": "python",
   "nbconvert_exporter": "python",
   "pygments_lexer": "ipython3",
   "version": "3.7.4"
  }
 },
 "nbformat": 4,
 "nbformat_minor": 2
}
