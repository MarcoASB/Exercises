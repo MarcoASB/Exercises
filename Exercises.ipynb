{
 "cells": [
  {
   "cell_type": "markdown",
   "metadata": {},
   "source": [
    "## Candy Exercise"
   ]
  },
  {
   "cell_type": "markdown",
   "metadata": {},
   "source": [
    "* Create a loop that prints all of the candies in the store to the terminal with their index stored in brackets beside them.\n",
    "* Create a second loop that runs for a set number of times as determined by a variable\n",
    "* Create a final loop to print all of the candies selected to the terminal."
   ]
  },
  {
   "cell_type": "code",
   "execution_count": 15,
   "metadata": {},
   "outputs": [
    {
     "name": "stdout",
     "output_type": "stream",
     "text": [
      "---------- Welcome to the candy store ----------\n",
      "\n",
      "[0]Snickers\n",
      "[1]Kit Kat\n",
      "[2]Sour Patch Kids\n",
      "[3]Juicy Fruit\n",
      "[4]Swedish Fish\n",
      "[5]Skittles\n",
      "[6]Hershey Bar\n",
      "[7]Starbursts\n",
      "[8]M&Ms\n",
      "\n",
      "You can choose 5 candie(s).\n",
      "Type the number of the candy that you want 0\n",
      "Type the number of the candy that you want 8\n",
      "Type the number of the candy that you want 6\n",
      "Type the number of the candy that you want 4\n",
      "Type the number of the candy that you want 5\n",
      "\n",
      "You choose...\n",
      "\n",
      "Snickers\n",
      "M&Ms\n",
      "Hershey Bar\n",
      "Swedish Fish\n",
      "Skittles\n",
      "----------------------------------------------------------------------\n"
     ]
    }
   ],
   "source": [
    "# The list of candies to print to the screen\n",
    "print('---------- Welcome to the candy store ----------')\n",
    "candyList = [\"Snickers\", \"Kit Kat\", \"Sour Patch Kids\", \"Juicy Fruit\", \"Swedish Fish\",\n",
    "             \"Skittles\", \"Hershey Bar\", \"Starbursts\", \"M&Ms\"]\n",
    "print('')\n",
    "\n",
    "allowance = 5\n",
    "candyCart = []\n",
    "for i in range(len(candyList)):\n",
    "    print ('['+ str(i) +']' + candyList[i])\n",
    "print('')\n",
    "\n",
    "candyCart = []\n",
    "print('You can choose ' + str(allowance) + ' candie(s).')\n",
    "for i in range(allowance):\n",
    "    candy=input('Type the number of the candy that you want ')\n",
    "    candyCart.append(candyList[int(candy)])\n",
    "\n",
    "print('')\n",
    "print('You choose...')\n",
    "print('')\n",
    "for i in candyCart:\n",
    "    print (i)\n",
    "print('---------------------------------------------------------------------------')"
   ]
  },
  {
   "cell_type": "markdown",
   "metadata": {},
   "source": [
    "* Allow a user to select as much candy as they want up until they say they do not want any more."
   ]
  },
  {
   "cell_type": "code",
   "execution_count": 6,
   "metadata": {},
   "outputs": [
    {
     "name": "stdout",
     "output_type": "stream",
     "text": [
      "Type the number of the candy that you want8\n",
      "Do you want other candy? (y/n) y\n",
      "Type the number of the candy that you want7\n",
      "Do you want other candy? (y/n) n\n",
      "\n",
      "You choose ...\n",
      "M&Ms\n",
      "Starbursts\n"
     ]
    }
   ],
   "source": [
    "candy_cart = []\n",
    "\n",
    "other = 'y'\n",
    "while other == 'y':\n",
    "    candy = input('Type the number of the candy that you want')\n",
    "    candy_cart.append(candyList[int(candy)])\n",
    "    other = input('Do you want other candy? (y/n) ')\n",
    "    \n",
    "print('')\n",
    "print('You choose ...')\n",
    "print('')\n",
    "for i in candy_cart:\n",
    "    print(i)"
   ]
  },
  {
   "cell_type": "markdown",
   "metadata": {},
   "source": [
    "# Pies Exercise"
   ]
  },
  {
   "cell_type": "markdown",
   "metadata": {},
   "source": [
    "* Create an order form that will display a list of pies to the user \n",
    "* Prompt the user to select which pie they'd like to order via number.\n",
    "* Once the user is done purchasing pies, print the total number of each pie ordered."
   ]
  },
  {
   "cell_type": "code",
   "execution_count": 16,
   "metadata": {},
   "outputs": [
    {
     "name": "stdout",
     "output_type": "stream",
     "text": [
      "Welcome to the House of Pies! Here are our pies:\n",
      "-----------------------------------------------------------------------\n",
      "(1) Pecan, (2) Apple Crisp, (3) Bean, (4) Banoffee, \n",
      "(5) Black Bun, (6) Blueberry, (7) Buko, (8) Burek, \n",
      "(9) Tamale, (10) Steak \n",
      "Which pie would you like? 7\n",
      "------------------------------------------------------------------------\n",
      "Great! We'll have that Buko right out for you.\n",
      "Would you like to make another purchase: (y)es or (n)o? y\n",
      "-----------------------------------------------------------------------\n",
      "(1) Pecan, (2) Apple Crisp, (3) Bean, (4) Banoffee, \n",
      "(5) Black Bun, (6) Blueberry, (7) Buko, (8) Burek, \n",
      "(9) Tamale, (10) Steak \n",
      "Which pie would you like? 2\n",
      "------------------------------------------------------------------------\n",
      "Great! We'll have that Apple Crisp right out for you.\n",
      "Would you like to make another purchase: (y)es or (n)o? n\n",
      "------------------------------------------------------------------------\n",
      "You purchased: \n",
      "\n",
      "0 Pecan\n",
      "1 Apple Crisp\n",
      "0 Bean\n",
      "0 Banoffee\n",
      "0 Black Bun\n",
      "0 Blueberry\n",
      "1 Buko\n",
      "0 Burek\n",
      "0 Tamale\n",
      "0 Steak\n"
     ]
    }
   ],
   "source": [
    "pie_purchases = [0, 0, 0, 0, 0, 0, 0, 0, 0, 0]\n",
    "pie_list = [\"Pecan\", \"Apple Crisp\", \"Bean\", \"Banoffee\", \"Black Bun\",\n",
    "            \"Blueberry\", \"Buko\", \"Burek\", \"Tamale\", \"Steak\"]\n",
    "print(\"Welcome to the House of Pies! Here are our pies:\")\n",
    "# While we are still shopping...\n",
    "shopping = 'y'\n",
    "while shopping == \"y\":\n",
    "    print(\"-----------------------------------------------------------------------\")\n",
    "    print(\"(1) Pecan, (2) Apple Crisp, (3) Bean, (4) Banoffee, \")\n",
    "    print (\"(5) Black Bun, (6) Blueberry, (7) Buko, (8) Burek, \")\n",
    "    print (\"(9) Tamale, (10) Steak \")\n",
    "    \n",
    "    pie_choice = input(\"Which pie would you like? \")\n",
    "\n",
    "    # Get index of the pie from the selected number\n",
    "    choice_index = int(pie_choice) - 1\n",
    "\n",
    "    # Add pie to the pie list by finding the matching index and adding one to its value\n",
    "    pie_purchases[choice_index] += 1\n",
    "\n",
    "    print(\"------------------------------------------------------------------------\")\n",
    "    print(\"Great! We'll have that \" + pie_list[choice_index] + \" right out for you.\")\n",
    "\n",
    "    shopping = input(\"Would you like to make another purchase: (y)es or (n)o? \")\n",
    "\n",
    "# Once the pie list is complete\n",
    "print(\"------------------------------------------------------------------------\")\n",
    "print(\"You purchased: \")\n",
    "print(\"\")\n",
    "for pie_index in range(len(pie_list)):\n",
    "    pie_count = str(pie_purchases[pie_index])\n",
    "    pie_name = str(pie_list[pie_index])\n",
    "    print(pie_count + \" \" + pie_name)\n"
   ]
  },
  {
   "cell_type": "markdown",
   "metadata": {},
   "source": [
    "# Netflix Exercise"
   ]
  },
  {
   "cell_type": "markdown",
   "metadata": {},
   "source": [
    "* Prompt the user for what video they are looking for.\n",
    "* Search through the netflix_ratings.csv to find the user's video.\n",
    "* If the CSV contains the user's video then print out the title, what it is rated and the current user ratings.\n",
    "* If the CSV does not contain the user's video then print out a message telling them that their video could not be found."
   ]
  },
  {
   "cell_type": "code",
   "execution_count": 14,
   "metadata": {},
   "outputs": [
    {
     "name": "stdout",
     "output_type": "stream",
     "text": [
      "What show or movie are you looking for? Breaking Bad\n",
      "\n",
      "Breaking Bad is rated TV-MA with a rating of 97\n"
     ]
    }
   ],
   "source": [
    "import os\n",
    "import csv\n",
    "\n",
    "video = input(\"What show or movie are you looking for? \")\n",
    "print('')\n",
    "\n",
    "csvpath = os.path.join(\"Resources\", \"netflix_ratings.csv\")\n",
    "\n",
    "# Set variable to check if we found the video\n",
    "found = False\n",
    "\n",
    "with open(csvpath, newline=\"\") as csvfile:\n",
    "    csvreader = csv.reader(csvfile, delimiter=\",\")\n",
    "    for row in csvreader:\n",
    "        if row[0] == video:\n",
    "            print(row[0] + \" is rated \" + row[1] + \" with a rating of \" + row[5])\n",
    "            \n",
    "            # Set variable to confirm we have found the video\n",
    "            found = True\n",
    "            # Stop at first results to avoid duplicates\n",
    "            break\n",
    "            \n",
    "    if found is False:\n",
    "        print(\"Sorry about this, we don't seem to have what you are looking for!\")\n"
   ]
  },
  {
   "cell_type": "markdown",
   "metadata": {},
   "source": [
    "# Web Exercise"
   ]
  },
  {
   "cell_type": "markdown",
   "metadata": {},
   "source": [
    "* Create a Python application that reads the data on Udemy Web Development offerings.\n",
    "* Then store the contents of the Title, Price, Subscriber Count, Number of Reviews, and Course Length into Python Lists.\n",
    "* Then zip these lists together into a single tuple.\n",
    "* Write the contents of the extracted data into a CSV. Make sure to include the titles of these columns in the csv.\n",
    "* Find the percent of subscribers that have also left a review on the course.\n",
    "* Parse the string associated with course length, such that we store it as an integer instead of a string. (i.e. \"4 hours\" should be converted to 4)."
   ]
  },
  {
   "cell_type": "code",
   "execution_count": 20,
   "metadata": {},
   "outputs": [],
   "source": [
    "import os\n",
    "import csv\n",
    "udemy_csv = os.path.join(\"Resources\", \"web_starter.csv\")\n",
    "\n",
    "title = []\n",
    "price = []\n",
    "subscribers = []\n",
    "reviews = []\n",
    "review_percent = []\n",
    "length = []\n",
    "\n",
    "with open(udemy_csv, newline=\"\") as csvfile:\n",
    "    csvreader = csv.reader(csvfile, delimiter=\",\")\n",
    "    for row in csvreader:\n",
    "        title.append(row[1])\n",
    "        price.append(row[4])\n",
    "        subscribers.append(row[5])\n",
    "        reviews.append(row[6])\n",
    "        # Determine percent of review left to 2 decimal places\n",
    "        percent = round(int(row[6]) / int(row[5]), 2)\n",
    "        review_percent.append(percent)\n",
    "        # Get length of the course to just a number\n",
    "        new_length = row[9].split(\" \")\n",
    "        length.append(float(new_length[0]))\n",
    "\n",
    "# Zip lists together\n",
    "cleaned_csv = zip(title, price, subscribers, reviews, review_percent, length)\n",
    "\n",
    "# Set variable for output file\n",
    "output_file = os.path.join(\"Resources\",\"web_final.csv\")\n",
    "\n",
    "#  Open the output file\n",
    "with open(output_file, \"w\", newline=\"\") as datafile:\n",
    "    writer = csv.writer(datafile)\n",
    "\n",
    "    # Write the header row\n",
    "    writer.writerow([\"Title\", \"Course Price\", \"Subscribers\", \"Reviews Left\",\n",
    "                     \"Percent of Reviews\", \"Length of Course\"])\n",
    "\n",
    "    # Write in zipped rows\n",
    "    writer.writerows(cleaned_csv)\n"
   ]
  },
  {
   "cell_type": "markdown",
   "metadata": {},
   "source": [
    "# Cereal Exercise"
   ]
  },
  {
   "cell_type": "markdown",
   "metadata": {},
   "source": [
    "* Open the file and skip the header row. \n",
    "* Read through the remaining rows and find the cereals that contain **five** grams of fiber or more\n",
    "\n",
    "* Try the following again but this time using cereal_bonus.csv, which does not include a header."
   ]
  },
  {
   "cell_type": "code",
   "execution_count": 22,
   "metadata": {},
   "outputs": [
    {
     "name": "stdout",
     "output_type": "stream",
     "text": [
      "Header: ﻿name,mfr,type,calories,protein,fat,sodium,fiber,carbo,sugars,potass,vitamins,shelf,weight,cups,rating\r\n",
      "['100% Bran', 'N', 'C', '70', '4', '1', '130', '10', '5', '6', '280', '25', '3', '1', '0.33', '68.402973']\n",
      "['All-Bran', 'K', 'C', '70', '4', '1', '260', '9', '7', '5', '320', '25', '3', '1', '0.33', '59.425505']\n",
      "['All-Bran with Extra Fiber', 'K', 'C', '50', '4', '0', '140', '14', '8', '0', '330', '25', '3', '1', '0.5', '93.704912']\n",
      "['Bran Flakes', 'P', 'C', '90', '3', '0', '210', '5', '13', '5', '190', '25', '3', '1', '0.67', '53.313813']\n",
      "['Fruit & Fibre Dates; Walnuts; and Oats', 'P', 'C', '120', '3', '2', '160', '5', '12', '10', '200', '25', '3', '1.25', '0.67', '40.917047']\n",
      "['Fruitful Bran', 'K', 'C', '120', '3', '0', '240', '5', '14', '12', '190', '25', '3', '1.33', '0.67', '41.015492']\n",
      "['Post Nat. Raisin Bran', 'P', 'C', '120', '3', '1', '200', '6', '11', '14', '260', '25', '3', '1.33', '0.67', '37.840594']\n",
      "['Raisin Bran', 'K', 'C', '120', '3', '1', '210', '5', '14', '12', '240', '25', '2', '1.33', '0.75', '39.259197']\n"
     ]
    }
   ],
   "source": [
    "import os\n",
    "import csv\n",
    "cereal_csv = os.path.join(\"Resources\", \"cereal.csv\")\n",
    "\n",
    "with open(cereal_csv, newline=\"\") as csvfile:\n",
    "    csvreader = csv.reader(csvfile, delimiter=\",\")\n",
    "    # Read the header row first (skip this part if there is no header)\n",
    "    csv_header = next(csvfile)\n",
    "    print(f\"Header: {csv_header}\")\n",
    "\n",
    "    # Read through each row of data after the header\n",
    "    for row in csvreader:\n",
    "        # Convert row to float and compare to grams of fiber\n",
    "        if float(row[7]) >= 5:\n",
    "            print(row)\n"
   ]
  },
  {
   "cell_type": "code",
   "execution_count": null,
   "metadata": {},
   "outputs": [],
   "source": []
  }
 ],
 "metadata": {
  "kernelspec": {
   "display_name": "Python 3",
   "language": "python",
   "name": "python3"
  },
  "language_info": {
   "codemirror_mode": {
    "name": "ipython",
    "version": 3
   },
   "file_extension": ".py",
   "mimetype": "text/x-python",
   "name": "python",
   "nbconvert_exporter": "python",
   "pygments_lexer": "ipython3",
   "version": "3.7.4"
  }
 },
 "nbformat": 4,
 "nbformat_minor": 2
}
