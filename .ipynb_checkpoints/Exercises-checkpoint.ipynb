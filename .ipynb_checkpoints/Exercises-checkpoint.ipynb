{
 "cells": [
  {
   "cell_type": "markdown",
   "metadata": {},
   "source": [
    "## Candy Exercise"
   ]
  },
  {
   "cell_type": "markdown",
   "metadata": {},
   "source": [
    "* Create a loop that prints all of the candies in the store to the terminal with their index stored in brackets beside them.\n",
    "* Create a second loop that runs for a set number of times as determined by a variable\n",
    "* Create a final loop to print all of the candies selected to the terminal."
   ]
  },
  {
   "cell_type": "code",
   "execution_count": 15,
   "metadata": {},
   "outputs": [
    {
     "name": "stdout",
     "output_type": "stream",
     "text": [
      "---------- Welcome to the candy store ----------\n",
      "\n",
      "[0]Snickers\n",
      "[1]Kit Kat\n",
      "[2]Sour Patch Kids\n",
      "[3]Juicy Fruit\n",
      "[4]Swedish Fish\n",
      "[5]Skittles\n",
      "[6]Hershey Bar\n",
      "[7]Starbursts\n",
      "[8]M&Ms\n",
      "\n",
      "You can choose 5 candie(s).\n",
      "Type the number of the candy that you want 0\n",
      "Type the number of the candy that you want 8\n",
      "Type the number of the candy that you want 6\n",
      "Type the number of the candy that you want 4\n",
      "Type the number of the candy that you want 5\n",
      "\n",
      "You choose...\n",
      "\n",
      "Snickers\n",
      "M&Ms\n",
      "Hershey Bar\n",
      "Swedish Fish\n",
      "Skittles\n",
      "----------------------------------------------------------------------\n"
     ]
    }
   ],
   "source": [
    "# The list of candies to print to the screen\n",
    "print('---------- Welcome to the candy store ----------')\n",
    "candyList = [\"Snickers\", \"Kit Kat\", \"Sour Patch Kids\", \"Juicy Fruit\", \"Swedish Fish\",\n",
    "             \"Skittles\", \"Hershey Bar\", \"Starbursts\", \"M&Ms\"]\n",
    "print('')\n",
    "\n",
    "allowance = 5\n",
    "candyCart = []\n",
    "for i in range(len(candyList)):\n",
    "    print ('['+ str(i) +']' + candyList[i])\n",
    "print('')\n",
    "\n",
    "candyCart = []\n",
    "print('You can choose ' + str(allowance) + ' candie(s).')\n",
    "for i in range(allowance):\n",
    "    candy=input('Type the number of the candy that you want ')\n",
    "    candyCart.append(candyList[int(candy)])\n",
    "\n",
    "print('')\n",
    "print('You choose...')\n",
    "print('')\n",
    "for i in candyCart:\n",
    "    print (i)\n",
    "print('---------------------------------------------------------------------------')"
   ]
  },
  {
   "cell_type": "markdown",
   "metadata": {},
   "source": [
    "* Allow a user to select as much candy as they want up until they say they do not want any more."
   ]
  },
  {
   "cell_type": "code",
   "execution_count": 6,
   "metadata": {},
   "outputs": [
    {
     "name": "stdout",
     "output_type": "stream",
     "text": [
      "Type the number of the candy that you want8\n",
      "Do you want other candy? (y/n) y\n",
      "Type the number of the candy that you want7\n",
      "Do you want other candy? (y/n) n\n",
      "\n",
      "You choose ...\n",
      "M&Ms\n",
      "Starbursts\n"
     ]
    }
   ],
   "source": [
    "candy_cart = []\n",
    "\n",
    "other = 'y'\n",
    "while other == 'y':\n",
    "    candy = input('Type the number of the candy that you want')\n",
    "    candy_cart.append(candyList[int(candy)])\n",
    "    other = input('Do you want other candy? (y/n) ')\n",
    "    \n",
    "print('')\n",
    "print('You choose ...')\n",
    "print('')\n",
    "for i in candy_cart:\n",
    "    print(i)"
   ]
  },
  {
   "cell_type": "markdown",
   "metadata": {},
   "source": [
    "# Pies Exercise"
   ]
  },
  {
   "cell_type": "markdown",
   "metadata": {},
   "source": [
    "* Create an order form that will display a list of pies to the user \n",
    "* Prompt the user to select which pie they'd like to order via number.\n",
    "* Once the user is done purchasing pies, print the total number of each pie ordered."
   ]
  },
  {
   "cell_type": "code",
   "execution_count": 16,
   "metadata": {},
   "outputs": [
    {
     "name": "stdout",
     "output_type": "stream",
     "text": [
      "Welcome to the House of Pies! Here are our pies:\n",
      "-----------------------------------------------------------------------\n",
      "(1) Pecan, (2) Apple Crisp, (3) Bean, (4) Banoffee, \n",
      "(5) Black Bun, (6) Blueberry, (7) Buko, (8) Burek, \n",
      "(9) Tamale, (10) Steak \n",
      "Which pie would you like? 7\n",
      "------------------------------------------------------------------------\n",
      "Great! We'll have that Buko right out for you.\n",
      "Would you like to make another purchase: (y)es or (n)o? y\n",
      "-----------------------------------------------------------------------\n",
      "(1) Pecan, (2) Apple Crisp, (3) Bean, (4) Banoffee, \n",
      "(5) Black Bun, (6) Blueberry, (7) Buko, (8) Burek, \n",
      "(9) Tamale, (10) Steak \n",
      "Which pie would you like? 2\n",
      "------------------------------------------------------------------------\n",
      "Great! We'll have that Apple Crisp right out for you.\n",
      "Would you like to make another purchase: (y)es or (n)o? n\n",
      "------------------------------------------------------------------------\n",
      "You purchased: \n",
      "\n",
      "0 Pecan\n",
      "1 Apple Crisp\n",
      "0 Bean\n",
      "0 Banoffee\n",
      "0 Black Bun\n",
      "0 Blueberry\n",
      "1 Buko\n",
      "0 Burek\n",
      "0 Tamale\n",
      "0 Steak\n"
     ]
    }
   ],
   "source": [
    "pie_purchases = [0, 0, 0, 0, 0, 0, 0, 0, 0, 0]\n",
    "pie_list = [\"Pecan\", \"Apple Crisp\", \"Bean\", \"Banoffee\", \"Black Bun\",\n",
    "            \"Blueberry\", \"Buko\", \"Burek\", \"Tamale\", \"Steak\"]\n",
    "print(\"Welcome to the House of Pies! Here are our pies:\")\n",
    "# While we are still shopping...\n",
    "shopping = 'y'\n",
    "while shopping == \"y\":\n",
    "    print(\"-----------------------------------------------------------------------\")\n",
    "    print(\"(1) Pecan, (2) Apple Crisp, (3) Bean, (4) Banoffee, \")\n",
    "    print (\"(5) Black Bun, (6) Blueberry, (7) Buko, (8) Burek, \")\n",
    "    print (\"(9) Tamale, (10) Steak \")\n",
    "    \n",
    "    pie_choice = input(\"Which pie would you like? \")\n",
    "\n",
    "    # Get index of the pie from the selected number\n",
    "    choice_index = int(pie_choice) - 1\n",
    "\n",
    "    # Add pie to the pie list by finding the matching index and adding one to its value\n",
    "    pie_purchases[choice_index] += 1\n",
    "\n",
    "    print(\"------------------------------------------------------------------------\")\n",
    "    print(\"Great! We'll have that \" + pie_list[choice_index] + \" right out for you.\")\n",
    "\n",
    "    shopping = input(\"Would you like to make another purchase: (y)es or (n)o? \")\n",
    "\n",
    "# Once the pie list is complete\n",
    "print(\"------------------------------------------------------------------------\")\n",
    "print(\"You purchased: \")\n",
    "print(\"\")\n",
    "for pie_index in range(len(pie_list)):\n",
    "    pie_count = str(pie_purchases[pie_index])\n",
    "    pie_name = str(pie_list[pie_index])\n",
    "    print(pie_count + \" \" + pie_name)\n"
   ]
  },
  {
   "cell_type": "markdown",
   "metadata": {},
   "source": [
    "# Netflix Exercise"
   ]
  },
  {
   "cell_type": "markdown",
   "metadata": {},
   "source": [
    "* Prompt the user for what video they are looking for.\n",
    "* Search through the netflix_ratings.csv to find the user's video.\n",
    "* If the CSV contains the user's video then print out the title, what it is rated and the current user ratings.\n",
    "* If the CSV does not contain the user's video then print out a message telling them that their video could not be found."
   ]
  },
  {
   "cell_type": "code",
   "execution_count": 14,
   "metadata": {},
   "outputs": [
    {
     "name": "stdout",
     "output_type": "stream",
     "text": [
      "What show or movie are you looking for? Breaking Bad\n",
      "\n",
      "Breaking Bad is rated TV-MA with a rating of 97\n"
     ]
    }
   ],
   "source": [
    "import os\n",
    "import csv\n",
    "\n",
    "video = input(\"What show or movie are you looking for? \")\n",
    "print('')\n",
    "\n",
    "csvpath = os.path.join(\"Resources\", \"netflix_ratings.csv\")\n",
    "\n",
    "# Set variable to check if we found the video\n",
    "found = False\n",
    "\n",
    "with open(csvpath, newline=\"\") as csvfile:\n",
    "    csvreader = csv.reader(csvfile, delimiter=\",\")\n",
    "    for row in csvreader:\n",
    "        if row[0] == video:\n",
    "            print(row[0] + \" is rated \" + row[1] + \" with a rating of \" + row[5])\n",
    "            \n",
    "            # Set variable to confirm we have found the video\n",
    "            found = True\n",
    "            # Stop at first results to avoid duplicates\n",
    "            break\n",
    "            \n",
    "    if found is False:\n",
    "        print(\"Sorry about this, we don't seem to have what you are looking for!\")\n"
   ]
  },
  {
   "cell_type": "markdown",
   "metadata": {},
   "source": [
    "# Web Exercise"
   ]
  },
  {
   "cell_type": "markdown",
   "metadata": {},
   "source": [
    "* Create a Python application that reads the data on Udemy Web Development offerings.\n",
    "* Then store the contents of the Title, Price, Subscriber Count, Number of Reviews, and Course Length into Python Lists.\n",
    "* Then zip these lists together into a single tuple.\n",
    "* Write the contents of the extracted data into a CSV. Make sure to include the titles of these columns in the csv.\n",
    "* Find the percent of subscribers that have also left a review on the course.\n",
    "* Parse the string associated with course length, such that we store it as an integer instead of a string. (i.e. \"4 hours\" should be converted to 4)."
   ]
  },
  {
   "cell_type": "code",
   "execution_count": 20,
   "metadata": {},
   "outputs": [],
   "source": [
    "import os\n",
    "import csv\n",
    "udemy_csv = os.path.join(\"Resources\", \"web_starter.csv\")\n",
    "\n",
    "title = []\n",
    "price = []\n",
    "subscribers = []\n",
    "reviews = []\n",
    "review_percent = []\n",
    "length = []\n",
    "\n",
    "with open(udemy_csv, newline=\"\") as csvfile:\n",
    "    csvreader = csv.reader(csvfile, delimiter=\",\")\n",
    "    for row in csvreader:\n",
    "        title.append(row[1])\n",
    "        price.append(row[4])\n",
    "        subscribers.append(row[5])\n",
    "        reviews.append(row[6])\n",
    "        # Determine percent of review left to 2 decimal places\n",
    "        percent = round(int(row[6]) / int(row[5]), 2)\n",
    "        review_percent.append(percent)\n",
    "        # Get length of the course to just a number\n",
    "        new_length = row[9].split(\" \")\n",
    "        length.append(float(new_length[0]))\n",
    "\n",
    "# Zip lists together\n",
    "cleaned_csv = zip(title, price, subscribers, reviews, review_percent, length)\n",
    "\n",
    "# Set variable for output file\n",
    "output_file = os.path.join(\"Resources\",\"web_final.csv\")\n",
    "\n",
    "#  Open the output file\n",
    "with open(output_file, \"w\", newline=\"\") as datafile:\n",
    "    writer = csv.writer(datafile)\n",
    "\n",
    "    # Write the header row\n",
    "    writer.writerow([\"Title\", \"Course Price\", \"Subscribers\", \"Reviews Left\",\n",
    "                     \"Percent of Reviews\", \"Length of Course\"])\n",
    "\n",
    "    # Write in zipped rows\n",
    "    writer.writerows(cleaned_csv)\n"
   ]
  },
  {
   "cell_type": "markdown",
   "metadata": {},
   "source": [
    "# Cereal Exercise"
   ]
  },
  {
   "cell_type": "markdown",
   "metadata": {},
   "source": [
    "* Open the file and skip the header row. \n",
    "* Read through the remaining rows and find the cereals that contain **five** grams of fiber or more\n",
    "\n",
    "* Try the following again but this time using cereal_bonus.csv, which does not include a header."
   ]
  },
  {
   "cell_type": "code",
   "execution_count": 22,
   "metadata": {},
   "outputs": [
    {
     "name": "stdout",
     "output_type": "stream",
     "text": [
      "Header: ﻿name,mfr,type,calories,protein,fat,sodium,fiber,carbo,sugars,potass,vitamins,shelf,weight,cups,rating\r\n",
      "['100% Bran', 'N', 'C', '70', '4', '1', '130', '10', '5', '6', '280', '25', '3', '1', '0.33', '68.402973']\n",
      "['All-Bran', 'K', 'C', '70', '4', '1', '260', '9', '7', '5', '320', '25', '3', '1', '0.33', '59.425505']\n",
      "['All-Bran with Extra Fiber', 'K', 'C', '50', '4', '0', '140', '14', '8', '0', '330', '25', '3', '1', '0.5', '93.704912']\n",
      "['Bran Flakes', 'P', 'C', '90', '3', '0', '210', '5', '13', '5', '190', '25', '3', '1', '0.67', '53.313813']\n",
      "['Fruit & Fibre Dates; Walnuts; and Oats', 'P', 'C', '120', '3', '2', '160', '5', '12', '10', '200', '25', '3', '1.25', '0.67', '40.917047']\n",
      "['Fruitful Bran', 'K', 'C', '120', '3', '0', '240', '5', '14', '12', '190', '25', '3', '1.33', '0.67', '41.015492']\n",
      "['Post Nat. Raisin Bran', 'P', 'C', '120', '3', '1', '200', '6', '11', '14', '260', '25', '3', '1.33', '0.67', '37.840594']\n",
      "['Raisin Bran', 'K', 'C', '120', '3', '1', '210', '5', '14', '12', '240', '25', '2', '1.33', '0.75', '39.259197']\n"
     ]
    }
   ],
   "source": [
    "import os\n",
    "import csv\n",
    "cereal_csv = os.path.join(\"Resources\", \"cereal.csv\")\n",
    "\n",
    "with open(cereal_csv, newline=\"\") as csvfile:\n",
    "    csvreader = csv.reader(csvfile, delimiter=\",\")\n",
    "    # Read the header row first (skip this part if there is no header)\n",
    "    csv_header = next(csvfile)\n",
    "    print(f\"Header: {csv_header}\")\n",
    "\n",
    "    # Read through each row of data after the header\n",
    "    for row in csvreader:\n",
    "        # Convert row to float and compare to grams of fiber\n",
    "        if float(row[7]) >= 5:\n",
    "            print(row)\n"
   ]
  },
  {
   "cell_type": "markdown",
   "metadata": {},
   "source": [
    "# Dictionary Excercise"
   ]
  },
  {
   "cell_type": "markdown",
   "metadata": {},
   "source": [
    "* Create a dictionary to store:\n",
    "    * Name\n",
    "    * Age\n",
    "    * A list of a few of your hobbies\n",
    "    * A dictionary of a few times you wake up during the week\n",
    "* Print out name, how many hobbies have and get up time during the week."
   ]
  },
  {
   "cell_type": "code",
   "execution_count": 2,
   "metadata": {},
   "outputs": [
    {
     "name": "stdout",
     "output_type": "stream",
     "text": [
      "Hello I am Rex and I am a dog\n",
      "I have 4 hobbies!\n",
      "On the weekend I get up at 10\n"
     ]
    }
   ],
   "source": [
    "# Dictionary full of info\n",
    "my_info = {\"name\": \"Rex\",\n",
    "           \"occupation\": \"dog\",\n",
    "           \"age\": 21,\n",
    "           \"hobbies\": [\"barking\", \"eating\", \"sleeping\", \"loving my owner\"],\n",
    "           \"wake-up\": {\"Mon\": 5, \"Friday\": 5, \"Saturday\": 10, \"Sunday\": 9}}\n",
    "\n",
    "# Print out results are stored in the dictionary\n",
    "print(f'Hello I am {my_info[\"name\"]} and I am a {my_info[\"occupation\"]}')\n",
    "print(f'I have {len(my_info[\"hobbies\"])} hobbies!')\n",
    "print(f'On the weekend I get up at {my_info[\"wake-up\"][\"Saturday\"]}')\n"
   ]
  },
  {
   "cell_type": "markdown",
   "metadata": {},
   "source": [
    "# Comprehension list Exercise"
   ]
  },
  {
   "cell_type": "markdown",
   "metadata": {},
   "source": [
    "* Use list comprehensions to create a new list that contains the lowercase version of each of the names your user provided.\n",
    "* Use list comprehensions to create a new list that contains the title-cased versions of each of the names in your lower-cased list."
   ]
  },
  {
   "cell_type": "code",
   "execution_count": 6,
   "metadata": {},
   "outputs": [
    {
     "name": "stdout",
     "output_type": "stream",
     "text": [
      "Please enter the name of someone you know. Julian\n",
      "Please enter the name of someone you know. Pedro\n",
      "Please enter the name of someone you know. marco\n",
      "Please enter the name of someone you know. jesus\n",
      "Please enter the name of someone you know. AlbeRTo\n",
      "\n",
      "Dear Julian, please come to the wedding this Saturday!\n",
      "Dear Pedro, please come to the wedding this Saturday!\n",
      "Dear Marco, please come to the wedding this Saturday!\n",
      "Dear Jesus, please come to the wedding this Saturday!\n",
      "Dear Alberto, please come to the wedding this Saturday!\n"
     ]
    }
   ],
   "source": [
    "names = []\n",
    "for _ in range(5):\n",
    "    name = input(\"Please enter the name of someone you know. \")\n",
    "    names.append(name)\n",
    "\n",
    "lowercased = [name.lower() for name in names]\n",
    "titlecased = [name.title() for name in lowercased]\n",
    "invitations = [\n",
    "    f\"Dear {name}, please come to the wedding this Saturday!\" for name in titlecased]\n",
    "print('')\n",
    "for invitation in invitations:\n",
    "    print(invitation)\n"
   ]
  },
  {
   "cell_type": "markdown",
   "metadata": {},
   "source": [
    "# Wrestling Exercise"
   ]
  },
  {
   "cell_type": "markdown",
   "metadata": {},
   "source": [
    "* Create a function called print_percentages which takes in a parameter called wrestler_data\n",
    "* Calculate the percentage of matches the wrestler won, lost, and drew over the course of a year.\n",
    "* Prints out the stats for the wrestler to the terminal.\n",
    "* Create a conditional that checks a wrestler's loss percentage and prints either \"Jobber\" if the number was greater than fifty or \"Superstar\" if the number was less than 50."
   ]
  },
  {
   "cell_type": "code",
   "execution_count": 17,
   "metadata": {},
   "outputs": [
    {
     "name": "stdout",
     "output_type": "stream",
     "text": [
      "What wrestler do you want to look for? Kofi Kingston\n",
      "\n",
      "Stats for Kofi Kingston\n",
      "-----------------------------\n",
      "WIN PERCENT: 70.37\n",
      "LOSS PERCENT: 28.89\n",
      "DRAW PERCENT: 0.74\n",
      "-----------------------------\n",
      "Kofi Kingston is a Superstar\n"
     ]
    }
   ],
   "source": [
    "import os\n",
    "import csv\n",
    "wrestling_csv = os.path.join('Resources', 'WWE-Data-2016.csv')\n",
    "\n",
    "def print_percentages(wrestler_data):\n",
    "    name = str(wrestler_data[0])\n",
    "    wins = int(wrestler_data[1])\n",
    "    losses = int(wrestler_data[2])\n",
    "    draws = int(wrestler_data[3])\n",
    "    \n",
    "    total_matches = wins + losses + draws\n",
    "    win_percent = (wins / total_matches) * 100\n",
    "    loss_percent = (losses / total_matches) * 100\n",
    "    draw_percent = (draws / total_matches) * 100\n",
    "\n",
    "    # If the loss percentage is over 50, type_of_wrestler is \"Jobber\". Otherwise it is \"Superstar\".\n",
    "    if loss_percent > 50:\n",
    "        type_of_wrestler = \"Jobber\"\n",
    "    else:\n",
    "        type_of_wrestler = \"Superstar\"\n",
    "        \n",
    "    print('')\n",
    "    print(f\"Stats for {name}\")\n",
    "    print(\"-----------------------------\")\n",
    "    print(f\"WIN PERCENT: {str(round(win_percent,2))}\")\n",
    "    print(f\"LOSS PERCENT: {str(round(loss_percent,2))}\")\n",
    "    print(f\"DRAW PERCENT: {str(round(draw_percent,2))}\")\n",
    "    print(\"-----------------------------\")\n",
    "    print(f\"{name} is a {type_of_wrestler}\")\n",
    "    \n",
    "with open(wrestling_csv, 'r') as csvfile:\n",
    "    csvreader = csv.reader(csvfile, delimiter=',')\n",
    "    header = next(csvreader)\n",
    "    name_to_check = input(\"What wrestler do you want to look for? \")\n",
    "    for row in csvreader:\n",
    "        if name_to_check == row[0]:\n",
    "            print_percentages(row)"
   ]
  },
  {
   "cell_type": "code",
   "execution_count": null,
   "metadata": {},
   "outputs": [],
   "source": []
  }
 ],
 "metadata": {
  "kernelspec": {
   "display_name": "Python 3",
   "language": "python",
   "name": "python3"
  },
  "language_info": {
   "codemirror_mode": {
    "name": "ipython",
    "version": 3
   },
   "file_extension": ".py",
   "mimetype": "text/x-python",
   "name": "python",
   "nbconvert_exporter": "python",
   "pygments_lexer": "ipython3",
   "version": "3.7.4"
  }
 },
 "nbformat": 4,
 "nbformat_minor": 2
}
