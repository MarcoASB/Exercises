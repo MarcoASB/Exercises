{
 "cells": [
  {
   "cell_type": "code",
   "execution_count": 2,
   "metadata": {},
   "outputs": [],
   "source": [
    "# Dependencies\n",
    "from stats import *"
   ]
  },
  {
   "cell_type": "code",
   "execution_count": 4,
   "metadata": {},
   "outputs": [
    {
     "name": "stdout",
     "output_type": "stream",
     "text": [
      "Mode of Birthday Party Ages: (6, 3)\n"
     ]
    }
   ],
   "source": [
    "# Ages of children and parents at child's party\n",
    "birthday_party_ages = [6, 5, 6, 6, 35, 42, 34]\n",
    "print(f\"Mode of Birthday Party Ages: {mode(birthday_party_ages)}\")"
   ]
  },
  {
   "cell_type": "code",
   "execution_count": 3,
   "metadata": {},
   "outputs": [
    {
     "name": "stdout",
     "output_type": "stream",
     "text": [
      "Median of QM Grades: 58\n",
      "Modes of QM Grades: [(13, 2), (63, 2)]\n",
      "Mean of QM Grades: 45.142857142857146\n"
     ]
    }
   ],
   "source": [
    "# Test scores from a graduate quantum mechanics midterm\n",
    "quantum_grades = [63, 63, 98, 13, 58, 13, 8]\n",
    "print(f\"Median of QM Grades: {median(quantum_grades)}\")\n",
    "print(f\"Modes of QM Grades: {multi_mode(quantum_grades)}\")\n",
    "print(f\"Mean of QM Grades: {mean(quantum_grades)}\")"
   ]
  },
  {
   "cell_type": "code",
   "execution_count": 7,
   "metadata": {},
   "outputs": [],
   "source": [
    "# Dependencies\n",
    "from spread import *"
   ]
  },
  {
   "cell_type": "code",
   "execution_count": 9,
   "metadata": {},
   "outputs": [
    {
     "name": "stdout",
     "output_type": "stream",
     "text": [
      "Summarizing Bootcamp Ages\n",
      "Variance: 72.55555555555556\n",
      "Standard Deviation: 8.517954892787092\n",
      "Z-Scores: [(27, -1.1348576962825065), (35, -0.19566512004870779), (42, 0.6261283841558661), (52, 1.8001191044481146), (36, -0.07826604801948295), (28, -1.0174586242532817)]\n",
      "======\n"
     ]
    }
   ],
   "source": [
    "# Ages of students in bootcamp\n",
    "bootcamp_classroom_ages = [27, 35, 42, 52, 36, 28]\n",
    "summarize(\"Bootcamp Ages\", bootcamp_classroom_ages)"
   ]
  },
  {
   "cell_type": "code",
   "execution_count": 14,
   "metadata": {},
   "outputs": [
    {
     "name": "stdout",
     "output_type": "stream",
     "text": [
      "Summarizing Prices\n",
      "Variance: 92039.55555555556\n",
      "Standard Deviation: 303.3802161571442\n",
      "Z-Scores: [(30, -0.36917371019996403), (31, -0.36587751635889293), (31, -0.36587751635889293), (32, -0.3625813225178218), (32, -0.3625813225178218), (40, -0.33621177178925293), (41, -0.33291557794818183), (41, -0.33291557794818183), (1000, 2.82813431563901)]\n",
      "======\n"
     ]
    }
   ],
   "source": [
    "# Prices\n",
    "summarize(\"Prices\", [30, 31, 31, 32, 32, 40, 41, 41, 1000])"
   ]
  },
  {
   "cell_type": "markdown",
   "metadata": {},
   "source": [
    "## Quartiles\n",
    "* Identify the median, upper quartile, and lower quartiles by hand.\n",
    "* Use code to determine the lower and upper quartiles and be sure to account for both odd and even lengths of a data set.\n",
    "* Use numpy.percentile to help with the calculations.\n",
    "* The difference between the upper and lower quartile is called the interquartile range, or IQR.\n",
    "    * Like the standard deviation, the IQR describes how \"spread out\" the data set is.\n",
    "* Calculate the IQR for this list.\n",
    "* Determine the outliers\n",
    "    * Lower outliers are points that fall below the result of the equation Q1 - 1.5 * IQR\n",
    "    * Upper outliers are points that above the result of the equation Q3 + 1.5 * IQR\n",
    "* Create a box plot of that data."
   ]
  },
  {
   "cell_type": "code",
   "execution_count": 50,
   "metadata": {},
   "outputs": [],
   "source": [
    "# Dependencies\n",
    "import matplotlib.pyplot as plt\n",
    "from stats import median\n",
    "import numpy as np"
   ]
  },
  {
   "cell_type": "code",
   "execution_count": 51,
   "metadata": {},
   "outputs": [
    {
     "data": {
      "text/plain": [
       "array([ 2.3, 10.2, 11.2, 12.3, 14.5, 14.6, 15. , 15.1, 19. , 24. ])"
      ]
     },
     "execution_count": 51,
     "metadata": {},
     "output_type": "execute_result"
    }
   ],
   "source": [
    "### Data Points\n",
    "arr = np.array([2.3,10.2,11.2,12.3,14.5,14.6,15.0,15.1,19.0,24.0])\n",
    "arr"
   ]
  },
  {
   "cell_type": "code",
   "execution_count": 30,
   "metadata": {},
   "outputs": [
    {
     "data": {
      "text/plain": [
       "14.55"
      ]
     },
     "execution_count": 30,
     "metadata": {},
     "output_type": "execute_result"
    }
   ],
   "source": [
    "# Find the median\n",
    "mid = median(arr)\n",
    "mid"
   ]
  },
  {
   "cell_type": "code",
   "execution_count": 42,
   "metadata": {},
   "outputs": [
    {
     "name": "stdout",
     "output_type": "stream",
     "text": [
      "Q1 is 11.474999999999998\n",
      "Q3 is 15.075\n",
      "interquartile range: 3.6000000000000014\n",
      "The lower boundary is 6.074999999999996\n",
      "The upper boundary is 20.475\n"
     ]
    }
   ],
   "source": [
    "# Use numpy to create quartiles\n",
    "q1 = np.percentile(arr, 25)\n",
    "q3 = np.percentile(arr,75)\n",
    "iqr = (q3 - q1)\n",
    "lower_boundary = q1 - (1.5 * iqr)\n",
    "upper_boundary = q3 + (1.5 * iqr)\n",
    "# Print the quartiles\n",
    "print(f\"Q1 is {q1}\")\n",
    "print(f\"Q3 is {q3}\")\n",
    "print(\"interquartile range:\", iqr)\n",
    "print(f'The lower boundary is {lower_boundary}')\n",
    "print(f'The upper boundary is {upper_boundary}')"
   ]
  },
  {
   "cell_type": "code",
   "execution_count": 49,
   "metadata": {},
   "outputs": [
    {
     "name": "stdout",
     "output_type": "stream",
     "text": [
      "Lower outlier: [2.3], Upper outlier:[24.]\n"
     ]
    }
   ],
   "source": [
    "# Check for any lower outliers\n",
    "print('Lower outlier: {}, Upper outlier:{}'.format(arr[arr <= lower_boundary],arr[arr >= upper_boundary]))"
   ]
  },
  {
   "cell_type": "code",
   "execution_count": 50,
   "metadata": {},
   "outputs": [
    {
     "data": {
      "image/png": "[encoded data removed]",
      "text/plain": [
       "<Figure size 432x288 with 1 Axes>"
      ]
     },
     "metadata": {
      "needs_background": "light"
     },
     "output_type": "display_data"
    }
   ],
   "source": [
    "# Create box plot\n",
    "plt.boxplot(arr, showmeans=True)\n",
    "plt.grid()\n",
    "plt.show()"
   ]
  },
  {
   "cell_type": "markdown",
   "metadata": {},
   "source": [
    "## Standard Error"
   ]
  },
  {
   "cell_type": "markdown",
   "metadata": {},
   "source": [
    "* With the data provided create a number of samples of house prices.\n",
    "* Calculate the means for each sample.\n",
    "* Calculate the standard error for each sample.\n",
    "* Create a plot displaying the means for each sample, with the standard error as error bars."
   ]
  },
  {
   "cell_type": "code",
   "execution_count": 59,
   "metadata": {},
   "outputs": [],
   "source": [
    "# Dependencies\n",
    "from matplotlib import pyplot as plt\n",
    "import numpy as np\n",
    "import pandas as pd\n",
    "# Read data\n",
    "housing_data = pd.read_csv(\"Resources/housing_data.csv\", header=None)\n",
    "housing_data = housing_data.sample(frac=1).reset_index(drop=True)"
   ]
  },
  {
   "cell_type": "code",
   "execution_count": 60,
   "metadata": {},
   "outputs": [],
   "source": [
    "# Create a bunch of samples, each with div items\n",
    "div = 20\n",
    "lim = len(housing_data) // div\n",
    "samples = [housing_data.iloc[(i * div):(i * div + div), 13]\n",
    "           for i in range(0, lim)]"
   ]
  },
  {
   "cell_type": "code",
   "execution_count": 61,
   "metadata": {},
   "outputs": [],
   "source": [
    "# Calculate means\n",
    "means = [s.mean() for s in samples]\n",
    "# Calculate standard error on means\n",
    "sem = [s.sem() for s in samples]"
   ]
  },
  {
   "cell_type": "code",
   "execution_count": 66,
   "metadata": {},
   "outputs": [
    {
     "data": {
      "image/png": "[encoded data removed]",
      "text/plain": [
       "<Figure size 432x288 with 1 Axes>"
      ]
     },
     "metadata": {
      "needs_background": "light"
     },
     "output_type": "display_data"
    }
   ],
   "source": [
    "# Plot sample means with error bars\n",
    "fig, ax = plt.subplots()\n",
    "ax.errorbar(np.arange(0, len(means)), means, yerr=sem, fmt=\"o\", color=\"b\",\n",
    "            alpha=0.5, label=\"Mean of House Prices\")\n",
    "ax.set_xlim(-0.5, len(means))\n",
    "ax.set_xlabel(\"Sample Number\")\n",
    "ax.set_ylabel(\"Mean of Median House Prices\")\n",
    "plt.legend(loc=\"upper left\", fontsize=\"small\", fancybox=True)\n",
    "plt.show()"
   ]
  },
  {
   "cell_type": "markdown",
   "metadata": {},
   "source": [
    "## T-test"
   ]
  },
  {
   "cell_type": "markdown",
   "metadata": {},
   "source": [
    "* Using the data, read both into a Pandas DataFrame.\n",
    "* Print the mean height of WBA players (last column in the DataFrame).\n",
    "* Print the mean height of women sampled.\n",
    "* Using a T-test, determine if difference in sample height means is significant or not and print a message stating the case.\n",
    "* Plot an error bar of the height means and include the standard error of the means.\n",
    "* Using an integer index starting at 0 for the X-axis and the list of means as the Y-axis create a final plot for for mean height."
   ]
  },
  {
   "cell_type": "code",
   "execution_count": 17,
   "metadata": {},
   "outputs": [],
   "source": [
    "# Import dependecies\n",
    "import matplotlib.pyplot as plt\n",
    "import numpy as np\n",
    "import pandas as pd\n",
    "from scipy import stats\n",
    "# Read in data\n",
    "general_heights = pd.read_csv(\"Resources/general_heights.csv\")\n",
    "wba_data = pd.read_csv(\"Resources/wba_data.csv\")\n",
    "wba_heights = wba_data.iloc[:, -1]"
   ]
  },
  {
   "cell_type": "code",
   "execution_count": 19,
   "metadata": {},
   "outputs": [
    {
     "name": "stdout",
     "output_type": "stream",
     "text": [
      "The mean height of WBA players is 72.32.\n",
      "The mean height of women sampled is 64.68416666666667.\n",
      "p is 3.147413627696938e-33.\n",
      "The difference in sample means is significant.\n"
     ]
    }
   ],
   "source": [
    "# Run the t-test\n",
    "(t_stat, p) = stats.ttest_ind(general_heights, wba_heights, equal_var=False)\n",
    "# Report the data\n",
    "print(\"The mean height of WBA players is {}.\".format(wba_heights.mean()))\n",
    "print(\"The mean height of women sampled is {}.\".format(general_heights.values.mean()))\n",
    "print(\"p is {}.\".format(p[0]))\n",
    "if p < 0.05:\n",
    "    print(\"The difference in sample means is significant.\")\n",
    "else:\n",
    "    print(\"The difference in sample means is not significant.\")"
   ]
  },
  {
   "cell_type": "code",
   "execution_count": 21,
   "metadata": {},
   "outputs": [
    {
     "data": {
      "image/png": "[encoded data removed]",
      "text/plain": [
       "<Figure size 432x288 with 1 Axes>"
      ]
     },
     "metadata": {
      "needs_background": "light"
     },
     "output_type": "display_data"
    }
   ],
   "source": [
    "# Plot sample means with error bars\n",
    "tick_labels = [\"General Public\", \"WBA Players\"]\n",
    "means = [general_heights.mean().values[0], wba_heights.mean()]\n",
    "x_axis = np.arange(0, len(means))\n",
    "sem = [general_heights.sem().values[0], wba_heights.sem()]\n",
    "# Plot mean height of players\n",
    "fig, ax = plt.subplots()\n",
    "fig.suptitle(\"Mean Height of Women in General Population and WBA Players\",\n",
    "             fontsize=12, fontweight=\"bold\")\n",
    "ax.errorbar(x_axis, means, yerr=sem, fmt=\"o\")\n",
    "ax.set_xlim(-0.5, 1.5)\n",
    "ax.set_ylim(64, 73)\n",
    "ax.set_xticklabels(tick_labels)\n",
    "ax.set_xticks([0, 1])\n",
    "ax.set_ylabel(\"Height (Inches)\")\n",
    "plt.show()"
   ]
  },
  {
   "cell_type": "markdown",
   "metadata": {},
   "source": [
    "## Fits and Regression\n",
    "* Read the crime_data.csv provided in the Resources directory.\n",
    "* Use iloc to isolate the next columns into separate variables for each statistic \n",
    "    * year column\n",
    "    * the total violent crime rate\n",
    "    * murder rate\n",
    "    * aggravated assault rate\n",
    "* Use stats.linregress to perform a linear regression with:\n",
    "    * the year and violent crime rate columns \n",
    "    * the year and murder rate columns\n",
    "    * the year and aggravated assault rate columns\n",
    "* Use the information returned by stats.linregress to create an equation for a line describing each of the linear regressions you performed.(End up with three separate lines.)\n",
    "* Use subplots to create a figure with subplots that share an x-axis\n",
    "* Use plot to plot each of the lines you created against the year.\n",
    "* Use the line created for the total violent crime rate to determine what the violent crime rate will be in 2019.\n",
    "\n",
    "**Recall that stats.linregress returns a slope, called m, and a y-intercept, called b. These let you define a line for each fit by simply writing:** \n",
    "\n",
    "**fit = m * year + b, for each linear regression you perform.**"
   ]
  },
  {
   "cell_type": "code",
   "execution_count": 39,
   "metadata": {},
   "outputs": [],
   "source": [
    "# Dependencies\n",
    "from matplotlib import pyplot as plt\n",
    "from scipy import stats\n",
    "import numpy as np\n",
    "import pandas as pd\n",
    "# Load data\n",
    "crime_data = pd.read_csv(\"Resources/crime_data.csv\")"
   ]
  },
  {
   "cell_type": "code",
   "execution_count": 40,
   "metadata": {},
   "outputs": [],
   "source": [
    "year = crime_data.loc[:, 'year']\n",
    "# Grab violent crime rates\n",
    "violent_crime_rate = crime_data.iloc[:, 3]\n",
    "vc_slope, vc_int, vc_r, vc_p, vc_std_err = stats.linregress(year, violent_crime_rate)\n",
    "vc_fit = vc_slope * year + vc_int\n",
    "# Grab murder rate\n",
    "murder_rate = crime_data.iloc[:, 5]\n",
    "m_slope, m_int, m_r, m_p, m_std_err = stats.linregress(year, murder_rate)\n",
    "m_fit = m_slope * year + m_int\n",
    "# Grab aggravated assault rate\n",
    "aggravated_assault_rate = crime_data.iloc[:, 9]\n",
    "aa_slope, aa_int, aa_r, aa_p, aa_std_err = stats.linregress(year, aggravated_assault_rate)\n",
    "aa_fit = aa_slope * year + aa_int"
   ]
  },
  {
   "cell_type": "code",
   "execution_count": 48,
   "metadata": {},
   "outputs": [
    {
     "data": {
      "text/plain": [
       "Text(0.5, 0, 'Year')"
      ]
     },
     "execution_count": 48,
     "metadata": {},
     "output_type": "execute_result"
    },
    {
     "data": {
      "image/png": "[encoded data removed]",
      "text/plain": [
       "<Figure size 432x288 with 3 Axes>"
      ]
     },
     "metadata": {
      "needs_background": "light"
     },
     "output_type": "display_data"
    }
   ],
   "source": [
    "# Plot\n",
    "fig, (ax1, ax2, ax3) = plt.subplots(3, sharex=True)\n",
    "fig.suptitle(\"Crime Rates Over Time\", fontsize=16, fontweight=\"bold\")\n",
    "\n",
    "ax1.set_xlim(min(year), max(year))\n",
    "ax1.plot(year, violent_crime_rate, linewidth=1, marker=\"o\")\n",
    "ax1.plot(year, vc_fit, \"b--\", linewidth=1)\n",
    "ax1.set_ylabel(\"Violent Crime Rate\")\n",
    "\n",
    "ax2.plot(year, murder_rate, linewidth=1, marker=\"o\", color=\"r\")\n",
    "ax2.plot(year, m_fit, \"r--\", linewidth=1)\n",
    "ax2.set_ylabel(\"Murder Rate\")\n",
    "\n",
    "ax3.plot(year, aggravated_assault_rate, linewidth=1, marker=\"o\", color=\"g\")\n",
    "ax3.plot(year, aa_fit, \"g--\", linewidth=1)\n",
    "ax3.set_ylabel(\"Aggravated Assault Rate\")\n",
    "ax3.set_xlabel(\"Year\")"
   ]
  },
  {
   "cell_type": "code",
   "execution_count": 49,
   "metadata": {},
   "outputs": [
    {
     "name": "stdout",
     "output_type": "stream",
     "text": [
      "The violent crime rate in 2019 will be 262.2137593984953.\n",
      "The murder rate in 2019 will be 3.2376691729323284.\n",
      "The aggravated assault rate in 2019 will be 72.87037593985042.\n"
     ]
    }
   ],
   "source": [
    "# Print results and save image\n",
    "year = 2019\n",
    "print(\"The violent crime rate in 2019 will be \" + str(vc_slope * year + vc_int))\n",
    "print(\"The murder rate in 2019 will be \" + str(m_slope * year + m_int))\n",
    "print(\"The aggravated assault rate in 2019 will be \" + str(aa_slope * year + aa_int))\n",
    "# plt.savefig(\"output/18-final-plot.png\")"
   ]
  },
  {
   "cell_type": "code",
   "execution_count": null,
   "metadata": {},
   "outputs": [],
   "source": []
  }
 ],
 "metadata": {
  "kernelspec": {
   "display_name": "Python 3",
   "language": "python",
   "name": "python3"
  },
  "language_info": {
   "codemirror_mode": {
    "name": "ipython",
    "version": 3
   },
   "file_extension": ".py",
   "mimetype": "text/x-python",
   "name": "python",
   "nbconvert_exporter": "python",
   "pygments_lexer": "ipython3",
   "version": "3.7.4"
  }
 },
 "nbformat": 4,
 "nbformat_minor": 2
}
